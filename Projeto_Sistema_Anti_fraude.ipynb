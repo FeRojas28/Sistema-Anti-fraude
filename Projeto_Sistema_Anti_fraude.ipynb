{
  "nbformat": 4,
  "nbformat_minor": 0,
  "metadata": {
    "colab": {
      "name": "Projeto - Sistema Anti-fraude.ipynb",
      "provenance": [],
      "collapsed_sections": []
    },
    "kernelspec": {
      "name": "python3",
      "display_name": "Python 3"
    },
    "language_info": {
      "name": "python"
    }
  },
  "cells": [
    {
      "cell_type": "markdown",
      "source": [
        "## Bibliotecas"
      ],
      "metadata": {
        "id": "N9IJGMrE2PdE"
      }
    },
    {
      "cell_type": "code",
      "source": [
        "# Bibliotecas importadas\n",
        "\n",
        "import pandas as pd # para visualização, manipulação e análise de dados\n",
        "from google.colab import drive # para importar arquivos do Google Drive\n",
        "drive.mount('/content/drive')\n",
        "\n",
        "from sklearn.feature_selection import RFE # recursive feature elimination\n",
        "from sklearn.linear_model import LogisticRegression\n",
        "\n",
        "from sklearn.model_selection import train_test_split # para separar o conjunto de dados em treinamento e teste para o modelo\n",
        "\n",
        "import torch\n",
        "from torch import tensor, nn, optim, from_numpy\n",
        "from torch.utils.data import DataLoader\n",
        "import numpy as np\n",
        "from sklearn.preprocessing import StandardScaler, MinMaxScaler\n",
        "from sklearn.metrics import accuracy_score, precision_score, recall_score, f1_score\n",
        "\n",
        "import warnings # para desativar mensagens de advertência\n",
        "warnings.filterwarnings(\"ignore\")"
      ],
      "metadata": {
        "colab": {
          "base_uri": "https://localhost:8080/"
        },
        "id": "LqhcPUIP1KRR",
        "outputId": "cfbf4068-33b1-4391-832b-5a3979d7c51c"
      },
      "execution_count": null,
      "outputs": [
        {
          "output_type": "stream",
          "name": "stdout",
          "text": [
            "Drive already mounted at /content/drive; to attempt to forcibly remount, call drive.mount(\"/content/drive\", force_remount=True).\n"
          ]
        }
      ]
    },
    {
      "cell_type": "markdown",
      "source": [
        "## Funções para automatização"
      ],
      "metadata": {
        "id": "vvyDPstm2MOR"
      }
    },
    {
      "cell_type": "code",
      "execution_count": null,
      "metadata": {
        "id": "ju9Knkbjnzea"
      },
      "outputs": [],
      "source": [
        "def criar_dataframe(endereco, delimitador=','):\n",
        "  \"\"\" Função que lê arquivo em .csv com a biblioteca pandas e o armazena na variável desejada.\n",
        "\n",
        "      endereço: inserir string do local em que o arquivo está armazenado;\n",
        "      delimitador: inserir string do delimitador deste arquivo .csv;\n",
        "  \"\"\"\n",
        "  return pd.read_csv(endereco, delimiter=delimitador)"
      ]
    },
    {
      "cell_type": "markdown",
      "source": [
        "## Leitura e tratamento dos dados"
      ],
      "metadata": {
        "id": "NY2G0k-o9UZa"
      }
    },
    {
      "cell_type": "code",
      "source": [
        "treino = criar_dataframe('/content/drive/MyDrive/Projeto - Sistema Anti-fraude/train.csv', ',')\n",
        "teste = criar_dataframe('/content/drive/MyDrive/Projeto - Sistema Anti-fraude/test.csv', ',')"
      ],
      "metadata": {
        "id": "dCks2Up99X56"
      },
      "execution_count": null,
      "outputs": []
    },
    {
      "cell_type": "code",
      "source": [
        "# Tratamento do dataset de teste, para nomear corretamente as colunas\n",
        "teste.columns = treino.columns"
      ],
      "metadata": {
        "id": "J3JB5J-XZVK5"
      },
      "execution_count": null,
      "outputs": []
    },
    {
      "cell_type": "code",
      "source": [
        "print(f'O conjunto de teste possui {teste.shape[0]} instâncias a serem preditas.')"
      ],
      "metadata": {
        "colab": {
          "base_uri": "https://localhost:8080/"
        },
        "id": "vJSY1G9G9uEW",
        "outputId": "3074ba50-fc47-4c80-b3fa-f23694538cc5"
      },
      "execution_count": null,
      "outputs": [
        {
          "output_type": "stream",
          "name": "stdout",
          "text": [
            "O conjunto de teste possui 704 instâncias a serem preditas.\n"
          ]
        }
      ]
    },
    {
      "cell_type": "markdown",
      "source": [
        "## Divisão de atributos e classes"
      ],
      "metadata": {
        "id": "2ytKZCr1_PzC"
      }
    },
    {
      "cell_type": "code",
      "source": [
        "# Removendo as colunas não normalizadas (Time e Amount)\n",
        "\n",
        "treino.drop(columns=['Time', 'Amount'], inplace=True)\n",
        "teste.drop(columns=['Time', 'Amount'], inplace=True)"
      ],
      "metadata": {
        "id": "rrvFnW5mB4uU"
      },
      "execution_count": null,
      "outputs": []
    },
    {
      "cell_type": "code",
      "source": [
        "# Dividindo os conjuntos em atributos e classes\n",
        "X_treino = treino.loc[:, treino.columns != 'Class']\n",
        "y_treino = treino.loc[:, treino.columns == 'Class']\n",
        "\n",
        "X_teste = teste.loc[:, treino.columns != 'Class']\n",
        "y_teste = teste.loc[:, treino.columns == 'Class']"
      ],
      "metadata": {
        "id": "YKHOHs9YBa7C"
      },
      "execution_count": null,
      "outputs": []
    },
    {
      "cell_type": "markdown",
      "source": [
        "## Seleção de atributos (*Feature selection*)\n",
        "Devemos testar Feature importance e/ou chi2? "
      ],
      "metadata": {
        "id": "PJdU5KB13_vN"
      }
    },
    {
      "cell_type": "code",
      "source": [
        "selecao_atributos = {}\n",
        "rfe_selector = RFE(estimator=LogisticRegression(), n_features_to_select=7, step=5, verbose=5)"
      ],
      "metadata": {
        "id": "JyB_Fp2q6CZ2"
      },
      "execution_count": null,
      "outputs": []
    },
    {
      "cell_type": "code",
      "source": [
        "rfe_selector.fit(X_treino, y_treino)\n",
        "rfe_support = rfe_selector.get_support()\n",
        "rfe_feature_1 = X_treino.loc[:,rfe_support].columns.tolist()"
      ],
      "metadata": {
        "id": "2h-WMpyr70q5",
        "colab": {
          "base_uri": "https://localhost:8080/"
        },
        "outputId": "5c22af08-5b4f-4d57-b680-4b7f9156fff1"
      },
      "execution_count": null,
      "outputs": [
        {
          "output_type": "stream",
          "name": "stdout",
          "text": [
            "Fitting estimator with 28 features.\n",
            "Fitting estimator with 23 features.\n",
            "Fitting estimator with 18 features.\n",
            "Fitting estimator with 13 features.\n",
            "Fitting estimator with 8 features.\n"
          ]
        }
      ]
    },
    {
      "cell_type": "code",
      "source": [
        "selecao_atributos['RFE'] = rfe_feature_1"
      ],
      "metadata": {
        "id": "oBviX70RQ1_4"
      },
      "execution_count": null,
      "outputs": []
    },
    {
      "cell_type": "code",
      "source": [
        "selecao_atributos"
      ],
      "metadata": {
        "colab": {
          "base_uri": "https://localhost:8080/"
        },
        "id": "QTACbQzq6IfP",
        "outputId": "12f96cb8-f09e-4e7d-a2f7-691bdcbf5e76"
      },
      "execution_count": null,
      "outputs": [
        {
          "output_type": "execute_result",
          "data": {
            "text/plain": [
              "{'RFE': ['V4', 'V10', 'V13', 'V14', 'V21', 'V22', 'V27']}"
            ]
          },
          "metadata": {},
          "execution_count": 58
        }
      ]
    },
    {
      "cell_type": "markdown",
      "source": [
        "Ao escolher sete atributos, o algoritmo **RFE** optou por: **V4, V10, V13, V14, V21, V22 e V27**."
      ],
      "metadata": {
        "id": "_b2aj1HwTNB0"
      }
    },
    {
      "cell_type": "markdown",
      "source": [
        "Quero usar a lib [xverse](https://towardsdatascience.com/introducing-xverse-a-python-package-for-feature-selection-and-transformation-17193cdcd067), que testa todos os métodos de feature selection de uma vez. Podemos fazer gráficos comparando a análise de cada método, para visualizar as features mais citadas"
      ],
      "metadata": {
        "id": "drW4A3Vz-dAQ"
      }
    },
    {
      "cell_type": "markdown",
      "source": [
        "## Conjunto de dados com os sete atributos selecionados"
      ],
      "metadata": {
        "id": "l906JignfmIr"
      }
    },
    {
      "cell_type": "code",
      "source": [
        "# Substituição da variável X_treino, deixando apenas os atributos selecionados pelo RFE\n",
        "X_treino = X_treino[rfe_feature_1]\n",
        "\n",
        "# Substituição da variável X_teste, deixando apenas os atributos selecionados pelo RFE\n",
        "X_teste = teste[rfe_feature_1]"
      ],
      "metadata": {
        "id": "OBlfxDZJCcK-"
      },
      "execution_count": null,
      "outputs": []
    },
    {
      "cell_type": "code",
      "source": [
        "X_teste_array_classe = X_teste.copy()\n",
        "X_teste_array_classe['Class'] = y_teste['Class']\n",
        "X_teste_array_classe = X_teste_array_classe.to_numpy()"
      ],
      "metadata": {
        "id": "iZvzZXSMfSSY"
      },
      "execution_count": null,
      "outputs": []
    },
    {
      "cell_type": "code",
      "source": [
        "# Criação da versão em numpy do nosso dataset de treino\n",
        "X_treino_array = X_treino.to_numpy()\n",
        "\n",
        "# Criação da versão em numpy do nosso dataset de treino\n",
        "X_teste_array = X_teste.to_numpy()"
      ],
      "metadata": {
        "id": "joh6jIj_3-T9"
      },
      "execution_count": null,
      "outputs": []
    },
    {
      "cell_type": "markdown",
      "source": [
        "## Balanceamento de classes "
      ],
      "metadata": {
        "id": "b06dEl88fqbM"
      }
    },
    {
      "cell_type": "code",
      "source": [
        "# Inserção da classe no 'X_treino', para que possamos balanceá-lo com base nas classes\n",
        "\n",
        "X_treino_balanceado = X_treino.copy()\n",
        "X_treino_balanceado['Class'] = y_treino['Class']"
      ],
      "metadata": {
        "id": "RpQDfy3le2XQ"
      },
      "execution_count": null,
      "outputs": []
    },
    {
      "cell_type": "code",
      "source": [
        "# Redução da classe maioritária (não fraude) para 85.000 instâncias e aumento da classe minoritária (fraude) para 15.000 instâncias\n",
        "\n",
        "nao_fraude = X_treino_balanceado[X_treino_balanceado['Class'] == 0]\n",
        "fraude = X_treino_balanceado[X_treino_balanceado['Class'] == 1]\n",
        "\n",
        "df_classe0 = nao_fraude.sample(85000, random_state=1)\n",
        "df_classe1 = fraude.sample(15000, random_state=1, replace=True)\n",
        "\n",
        "X_treino_balanceado = pd.concat([df_classe0, df_classe1], axis=0)"
      ],
      "metadata": {
        "id": "B_Q3XBRirzTf"
      },
      "execution_count": null,
      "outputs": []
    },
    {
      "cell_type": "markdown",
      "source": [
        "## Criação do modelo"
      ],
      "metadata": {
        "id": "6t2vrM_4rwEK"
      }
    },
    {
      "cell_type": "code",
      "source": [
        "# Criação da versão em numpy do nosso dataset balanceado\n",
        "\n",
        "X_treino_balanceado_array = X_treino_balanceado.to_numpy()"
      ],
      "metadata": {
        "id": "poNdlnA_UQLZ"
      },
      "execution_count": null,
      "outputs": []
    },
    {
      "cell_type": "code",
      "source": [
        "class Dataset(torch.utils.data.Dataset):\n",
        "  def __init__(self, dataset, scale_data=True):\n",
        "        \n",
        "        xy = dataset.astype(np.float32)\n",
        "        self.len = xy.shape[0]\n",
        "        \n",
        "        x_data = xy[:, 0:-1]\n",
        "        y_data = xy[:, -1:]\n",
        "\n",
        "        #x_data = MinMaxScaler().fit_transform(x_data)\n",
        "\n",
        "        self.x_data = from_numpy(x_data) \n",
        "        self.y_data = from_numpy(y_data) \n",
        "\n",
        "  def __len__(self):\n",
        "        return self.len\n",
        "        \n",
        "  def __getitem__(self, index):\n",
        "        return self.x_data[index], self.y_data[index]"
      ],
      "metadata": {
        "id": "rb1buj5aXEOl"
      },
      "execution_count": null,
      "outputs": []
    },
    {
      "cell_type": "code",
      "source": [
        "class MLP(nn.Module):\n",
        "    def __init__(self, atributos, neuronios):\n",
        "        super().__init__()\n",
        "        self.layers = nn.Sequential(\n",
        "          nn.Linear(atributos, neuronios[0]),\n",
        "          nn.ReLU(),\n",
        "          nn.Linear(neuronios[0], neuronios[1]),\n",
        "          nn.ReLU(),\n",
        "          nn.Linear(neuronios[1], 1),\n",
        "          nn.Sigmoid()\n",
        "        )\n",
        "    def forward(self, x):\n",
        "        return self.layers(x)"
      ],
      "metadata": {
        "id": "2mpI54_p7Ief"
      },
      "execution_count": null,
      "outputs": []
    },
    {
      "cell_type": "code",
      "source": [
        "treino_tensor = Dataset(X_treino_balanceado_array)\n",
        "teste_tensor = Dataset(X_teste_array_classe)\n",
        "\n",
        "# Hiperparâmetros\n",
        "tamanho_lote = 100\n",
        "epocas = 200\n",
        "taxa_de_aprendizagem = 0.01\n",
        "\n",
        "# Criação do modelo\n",
        "train_loader = DataLoader(treino_tensor, batch_size=tamanho_lote, shuffle=True, num_workers=0)\n",
        "modelo = MLP(atributos=7, neuronios=(20,10))\n",
        "criterio = nn.BCELoss(reduction='mean')\n",
        "otimizador = optim.Adam(modelo.parameters(), lr=taxa_de_aprendizagem)"
      ],
      "metadata": {
        "id": "DHm3mlH6yzVr"
      },
      "execution_count": null,
      "outputs": []
    },
    {
      "cell_type": "code",
      "source": [
        "modelo(treino_tensor.x_data).max()"
      ],
      "metadata": {
        "colab": {
          "base_uri": "https://localhost:8080/"
        },
        "id": "psZB1evJ9DvF",
        "outputId": "e29eff79-29c9-4b55-c29c-d01399924513"
      },
      "execution_count": null,
      "outputs": [
        {
          "output_type": "execute_result",
          "data": {
            "text/plain": [
              "tensor(0.7677, grad_fn=<MaxBackward1>)"
            ]
          },
          "metadata": {},
          "execution_count": 160
        }
      ]
    },
    {
      "cell_type": "markdown",
      "source": [
        "## Treinamento do modelo"
      ],
      "metadata": {
        "id": "Z2jqwIHNvYlE"
      }
    },
    {
      "cell_type": "code",
      "source": [
        "# Loop de treinamento\n",
        "for epoca in range(epocas):\n",
        "    loss_batch = 0\n",
        "    for i, data in enumerate(train_loader):\n",
        "        # obter as entradas\n",
        "        inputs, labels = data\n",
        "\n",
        "        # Propagação para frente\n",
        "        y_pred = modelo(inputs)\n",
        "\n",
        "        # Calcular e imprimir o loss\n",
        "        perda = criterio(y_pred, labels)\n",
        "\n",
        "        # Regularização L2 - Mudar pow(2.0) por abs() para a regularização L1\n",
        "        l2_lambda = 0.001\n",
        "        l2_norm = sum(p.pow(2.0).sum() for p in modelo.parameters())\n",
        "        perda = perda + l2_lambda * l2_norm\n",
        "\n",
        "        loss_batch += perda\n",
        "\n",
        "        # Backpropagation e atualização dos pesos\n",
        "        otimizador.zero_grad()\n",
        "        perda.backward()\n",
        "        otimizador.step()\n",
        "\n",
        "    if (epoca+1)%10 == 0 or epoca == 0:\n",
        "        with torch.no_grad():\n",
        "            # obter as entradas\n",
        "            inputs_test, y_real = teste_tensor.x_data, teste_tensor.y_data\n",
        "            \n",
        "            # Calcular a precisão para o treino\n",
        "            inputs_train = treino_tensor.x_data\n",
        "            y_pred_train = modelo(inputs_train)\n",
        "            f1_treino = f1_score(treino_tensor.y_data, torch.round(y_pred_train) )\n",
        "\n",
        "            # Fazer a previsão do conjunto de teste com o modelo treinado até agora\n",
        "            y_pred_test = modelo(inputs_test)\n",
        "\n",
        "            # Métrica de precisão\n",
        "            f1_teste = f1_score(y_real, torch.round(y_pred_test) )\n",
        "            print(f'época: {epoca+1} | perda: {loss_batch:.2e} | F1-Score (treino): {100*f1_treino:.2f}% | F1-Score (teste): {100*f1_teste:.2f}%')"
      ],
      "metadata": {
        "colab": {
          "base_uri": "https://localhost:8080/"
        },
        "id": "OatpbICayuWM",
        "outputId": "605239cc-abbf-45a4-9d1d-fcc7d084f10a"
      },
      "execution_count": null,
      "outputs": [
        {
          "output_type": "stream",
          "name": "stdout",
          "text": [
            "época: 1 | perda: 1.12e+02 | F1-Score (treino): 91.04% | F1-Score (teste): 92.23%\n",
            "época: 10 | perda: 1.01e+02 | F1-Score (treino): 91.45% | F1-Score (teste): 93.62%\n",
            "época: 20 | perda: 1.01e+02 | F1-Score (treino): 91.17% | F1-Score (teste): 91.75%\n",
            "época: 30 | perda: 1.01e+02 | F1-Score (treino): 91.15% | F1-Score (teste): 91.28%\n",
            "época: 40 | perda: 1.01e+02 | F1-Score (treino): 91.44% | F1-Score (teste): 92.15%\n",
            "época: 50 | perda: 1.01e+02 | F1-Score (treino): 91.19% | F1-Score (teste): 91.28%\n",
            "época: 60 | perda: 1.01e+02 | F1-Score (treino): 91.04% | F1-Score (teste): 91.58%\n",
            "época: 70 | perda: 1.01e+02 | F1-Score (treino): 91.16% | F1-Score (teste): 91.75%\n",
            "época: 80 | perda: 1.00e+02 | F1-Score (treino): 91.13% | F1-Score (teste): 91.67%\n",
            "época: 90 | perda: 1.01e+02 | F1-Score (treino): 91.28% | F1-Score (teste): 93.12%\n",
            "época: 100 | perda: 1.00e+02 | F1-Score (treino): 91.29% | F1-Score (teste): 92.63%\n",
            "época: 110 | perda: 1.00e+02 | F1-Score (treino): 90.80% | F1-Score (teste): 93.62%\n",
            "época: 120 | perda: 1.01e+02 | F1-Score (treino): 91.49% | F1-Score (teste): 93.12%\n",
            "época: 130 | perda: 1.01e+02 | F1-Score (treino): 91.03% | F1-Score (teste): 91.75%\n",
            "época: 140 | perda: 1.01e+02 | F1-Score (treino): 91.18% | F1-Score (teste): 92.15%\n",
            "época: 150 | perda: 1.01e+02 | F1-Score (treino): 91.53% | F1-Score (teste): 92.55%\n",
            "época: 160 | perda: 1.01e+02 | F1-Score (treino): 91.22% | F1-Score (teste): 91.10%\n",
            "época: 170 | perda: 1.01e+02 | F1-Score (treino): 91.19% | F1-Score (teste): 92.55%\n",
            "época: 180 | perda: 1.00e+02 | F1-Score (treino): 91.32% | F1-Score (teste): 92.23%\n",
            "época: 190 | perda: 1.01e+02 | F1-Score (treino): 91.50% | F1-Score (teste): 91.10%\n",
            "época: 200 | perda: 1.01e+02 | F1-Score (treino): 91.00% | F1-Score (teste): 91.75%\n"
          ]
        }
      ]
    },
    {
      "cell_type": "markdown",
      "source": [
        "## Salvamento do modelo"
      ],
      "metadata": {
        "id": "d77zLjilvdz8"
      }
    },
    {
      "cell_type": "code",
      "source": [
        "save_path = './modelo_fraude'\n",
        "torch.save(modelo.state_dict(), save_path)"
      ],
      "metadata": {
        "id": "RXClw2RriGaX"
      },
      "execution_count": null,
      "outputs": []
    },
    {
      "cell_type": "markdown",
      "source": [
        "## Verificação dos resultados"
      ],
      "metadata": {
        "id": "ljhIy3i_mzQr"
      }
    },
    {
      "cell_type": "code",
      "source": [
        "previsao = torch.round(y_pred_test)"
      ],
      "metadata": {
        "id": "qJW1-Uo0k6L9"
      },
      "execution_count": null,
      "outputs": []
    },
    {
      "cell_type": "code",
      "source": [
        "y_previsto_array = previsao.numpy().astype(int)"
      ],
      "metadata": {
        "id": "PNSe-4zflRtZ"
      },
      "execution_count": null,
      "outputs": []
    },
    {
      "cell_type": "code",
      "source": [
        "teste_modelo = y_teste.copy()\n",
        "teste_modelo['Real'] = teste_modelo['Class']\n",
        "teste_modelo.drop(columns=['Class'], inplace=True)\n",
        "teste_modelo['Previsão'] = y_previsto_array\n",
        "teste_modelo"
      ],
      "metadata": {
        "colab": {
          "base_uri": "https://localhost:8080/",
          "height": 424
        },
        "id": "dBHzSXFsl9WA",
        "outputId": "ab81f46a-03bf-4c6f-823d-0ca2acc8dc1f"
      },
      "execution_count": null,
      "outputs": [
        {
          "output_type": "execute_result",
          "data": {
            "text/plain": [
              "     Real  Previsão\n",
              "0       1         1\n",
              "1       1         1\n",
              "2       1         1\n",
              "3       1         1\n",
              "4       1         1\n",
              "..    ...       ...\n",
              "699     0         0\n",
              "700     0         0\n",
              "701     0         0\n",
              "702     0         0\n",
              "703     0         0\n",
              "\n",
              "[704 rows x 2 columns]"
            ],
            "text/html": [
              "\n",
              "  <div id=\"df-2aec7982-9da9-48d1-96e7-d525dc62813c\">\n",
              "    <div class=\"colab-df-container\">\n",
              "      <div>\n",
              "<style scoped>\n",
              "    .dataframe tbody tr th:only-of-type {\n",
              "        vertical-align: middle;\n",
              "    }\n",
              "\n",
              "    .dataframe tbody tr th {\n",
              "        vertical-align: top;\n",
              "    }\n",
              "\n",
              "    .dataframe thead th {\n",
              "        text-align: right;\n",
              "    }\n",
              "</style>\n",
              "<table border=\"1\" class=\"dataframe\">\n",
              "  <thead>\n",
              "    <tr style=\"text-align: right;\">\n",
              "      <th></th>\n",
              "      <th>Real</th>\n",
              "      <th>Previsão</th>\n",
              "    </tr>\n",
              "  </thead>\n",
              "  <tbody>\n",
              "    <tr>\n",
              "      <th>0</th>\n",
              "      <td>1</td>\n",
              "      <td>1</td>\n",
              "    </tr>\n",
              "    <tr>\n",
              "      <th>1</th>\n",
              "      <td>1</td>\n",
              "      <td>1</td>\n",
              "    </tr>\n",
              "    <tr>\n",
              "      <th>2</th>\n",
              "      <td>1</td>\n",
              "      <td>1</td>\n",
              "    </tr>\n",
              "    <tr>\n",
              "      <th>3</th>\n",
              "      <td>1</td>\n",
              "      <td>1</td>\n",
              "    </tr>\n",
              "    <tr>\n",
              "      <th>4</th>\n",
              "      <td>1</td>\n",
              "      <td>1</td>\n",
              "    </tr>\n",
              "    <tr>\n",
              "      <th>...</th>\n",
              "      <td>...</td>\n",
              "      <td>...</td>\n",
              "    </tr>\n",
              "    <tr>\n",
              "      <th>699</th>\n",
              "      <td>0</td>\n",
              "      <td>0</td>\n",
              "    </tr>\n",
              "    <tr>\n",
              "      <th>700</th>\n",
              "      <td>0</td>\n",
              "      <td>0</td>\n",
              "    </tr>\n",
              "    <tr>\n",
              "      <th>701</th>\n",
              "      <td>0</td>\n",
              "      <td>0</td>\n",
              "    </tr>\n",
              "    <tr>\n",
              "      <th>702</th>\n",
              "      <td>0</td>\n",
              "      <td>0</td>\n",
              "    </tr>\n",
              "    <tr>\n",
              "      <th>703</th>\n",
              "      <td>0</td>\n",
              "      <td>0</td>\n",
              "    </tr>\n",
              "  </tbody>\n",
              "</table>\n",
              "<p>704 rows × 2 columns</p>\n",
              "</div>\n",
              "      <button class=\"colab-df-convert\" onclick=\"convertToInteractive('df-2aec7982-9da9-48d1-96e7-d525dc62813c')\"\n",
              "              title=\"Convert this dataframe to an interactive table.\"\n",
              "              style=\"display:none;\">\n",
              "        \n",
              "  <svg xmlns=\"http://www.w3.org/2000/svg\" height=\"24px\"viewBox=\"0 0 24 24\"\n",
              "       width=\"24px\">\n",
              "    <path d=\"M0 0h24v24H0V0z\" fill=\"none\"/>\n",
              "    <path d=\"M18.56 5.44l.94 2.06.94-2.06 2.06-.94-2.06-.94-.94-2.06-.94 2.06-2.06.94zm-11 1L8.5 8.5l.94-2.06 2.06-.94-2.06-.94L8.5 2.5l-.94 2.06-2.06.94zm10 10l.94 2.06.94-2.06 2.06-.94-2.06-.94-.94-2.06-.94 2.06-2.06.94z\"/><path d=\"M17.41 7.96l-1.37-1.37c-.4-.4-.92-.59-1.43-.59-.52 0-1.04.2-1.43.59L10.3 9.45l-7.72 7.72c-.78.78-.78 2.05 0 2.83L4 21.41c.39.39.9.59 1.41.59.51 0 1.02-.2 1.41-.59l7.78-7.78 2.81-2.81c.8-.78.8-2.07 0-2.86zM5.41 20L4 18.59l7.72-7.72 1.47 1.35L5.41 20z\"/>\n",
              "  </svg>\n",
              "      </button>\n",
              "      \n",
              "  <style>\n",
              "    .colab-df-container {\n",
              "      display:flex;\n",
              "      flex-wrap:wrap;\n",
              "      gap: 12px;\n",
              "    }\n",
              "\n",
              "    .colab-df-convert {\n",
              "      background-color: #E8F0FE;\n",
              "      border: none;\n",
              "      border-radius: 50%;\n",
              "      cursor: pointer;\n",
              "      display: none;\n",
              "      fill: #1967D2;\n",
              "      height: 32px;\n",
              "      padding: 0 0 0 0;\n",
              "      width: 32px;\n",
              "    }\n",
              "\n",
              "    .colab-df-convert:hover {\n",
              "      background-color: #E2EBFA;\n",
              "      box-shadow: 0px 1px 2px rgba(60, 64, 67, 0.3), 0px 1px 3px 1px rgba(60, 64, 67, 0.15);\n",
              "      fill: #174EA6;\n",
              "    }\n",
              "\n",
              "    [theme=dark] .colab-df-convert {\n",
              "      background-color: #3B4455;\n",
              "      fill: #D2E3FC;\n",
              "    }\n",
              "\n",
              "    [theme=dark] .colab-df-convert:hover {\n",
              "      background-color: #434B5C;\n",
              "      box-shadow: 0px 1px 3px 1px rgba(0, 0, 0, 0.15);\n",
              "      filter: drop-shadow(0px 1px 2px rgba(0, 0, 0, 0.3));\n",
              "      fill: #FFFFFF;\n",
              "    }\n",
              "  </style>\n",
              "\n",
              "      <script>\n",
              "        const buttonEl =\n",
              "          document.querySelector('#df-2aec7982-9da9-48d1-96e7-d525dc62813c button.colab-df-convert');\n",
              "        buttonEl.style.display =\n",
              "          google.colab.kernel.accessAllowed ? 'block' : 'none';\n",
              "\n",
              "        async function convertToInteractive(key) {\n",
              "          const element = document.querySelector('#df-2aec7982-9da9-48d1-96e7-d525dc62813c');\n",
              "          const dataTable =\n",
              "            await google.colab.kernel.invokeFunction('convertToInteractive',\n",
              "                                                     [key], {});\n",
              "          if (!dataTable) return;\n",
              "\n",
              "          const docLinkHtml = 'Like what you see? Visit the ' +\n",
              "            '<a target=\"_blank\" href=https://colab.research.google.com/notebooks/data_table.ipynb>data table notebook</a>'\n",
              "            + ' to learn more about interactive tables.';\n",
              "          element.innerHTML = '';\n",
              "          dataTable['output_type'] = 'display_data';\n",
              "          await google.colab.output.renderOutput(dataTable, element);\n",
              "          const docLink = document.createElement('div');\n",
              "          docLink.innerHTML = docLinkHtml;\n",
              "          element.appendChild(docLink);\n",
              "        }\n",
              "      </script>\n",
              "    </div>\n",
              "  </div>\n",
              "  "
            ]
          },
          "metadata": {},
          "execution_count": 187
        }
      ]
    }
  ]
}
